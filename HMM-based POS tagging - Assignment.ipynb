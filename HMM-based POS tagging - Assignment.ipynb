{
 "cells": [
  {
   "cell_type": "markdown",
   "metadata": {},
   "source": [
    "## POS tagging using modified Viterbi"
   ]
  },
  {
   "cell_type": "markdown",
   "metadata": {},
   "source": [
    "## HMMs and Viterbi algorithm for POS tagging"
   ]
  },
  {
   "cell_type": "markdown",
   "metadata": {},
   "source": [
    "You have learnt to build your own HMM-based POS tagger and implement the Viterbi algorithm using the Penn Treebank training corpus. The vanilla Viterbi algorithm we had written had resulted in ~87% accuracy. The approx. 13% loss of accuracy was majorly due to the fact that when the algorithm encountered an unknown word (i.e. not present in the training set, such as 'Twitter'), it assigned an incorrect tag arbitrarily. This is because, for unknown words, the emission probabilities for all candidate tags are 0, so the algorithm arbitrarily chooses (the first) tag.\n",
    " \n",
    "In this assignment, you need to modify the Viterbi algorithm to solve the problem of unknown words using at least two techniques. Though there could be multiple ways to solve this problem, you may use the following hints:\n",
    "\n",
    "- Which tag class do you think most unknown words belong to? Can you identify rules (e.g. based on morphological cues) that can be used to tag unknown words? You may define separate python functions to exploit these rules so that they work in tandem with the original Viterbi algorithm.\n",
    "\n",
    "\n",
    "- Why does the Viterbi algorithm choose a random tag on encountering an unknown word? Can you modify the Viterbi algorithm so that it considers only one of the transition or emission probabilities for unknown words?\n",
    " \n",
    "\n",
    "You have been given a 'test' file below containing some sample sentences with unknown words. Look at the sentences and try to observe rules which may be useful to tag unknown words. Your final model will be evaluated on a similar test file."
   ]
  },
  {
   "cell_type": "markdown",
   "metadata": {},
   "source": [
    "### Data Preparation"
   ]
  },
  {
   "cell_type": "code",
   "execution_count": 1,
   "metadata": {},
   "outputs": [],
   "source": [
    "#Importing libraries\n",
    "import nltk"
   ]
  },
  {
   "cell_type": "code",
   "execution_count": 2,
   "metadata": {},
   "outputs": [],
   "source": [
    "# reading the Treebank tagged sentences\n",
    "nltk_data = list(nltk.corpus.treebank.tagged_sents(tagset='universal'))"
   ]
  },
  {
   "cell_type": "code",
   "execution_count": 3,
   "metadata": {
    "scrolled": true
   },
   "outputs": [
    {
     "name": "stdout",
     "output_type": "stream",
     "text": [
      "[[('One', 'NUM'), ('bright', 'ADJ'), ('sign', 'NOUN'), ('is', 'VERB'), ('that', 'ADP'), ('a', 'DET'), ('growing', 'VERB'), ('number', 'NOUN'), ('of', 'ADP'), ('women', 'NOUN'), ('have', 'VERB'), ('entered', 'VERB'), ('the', 'DET'), ('once', 'ADV'), ('male-dominated', 'ADJ'), ('field', 'NOUN'), (';', '.'), ('more', 'ADJ'), ('than', 'ADP'), ('a', 'DET'), ('third', 'ADJ'), ('of', 'ADP'), ('the', 'DET'), ('ringers', 'NOUN'), ('today', 'NOUN'), ('are', 'VERB'), ('women', 'NOUN'), ('.', '.')], [('``', '.'), ('These', 'DET'), ('days', 'NOUN'), (',', '.'), ('banking', 'NOUN'), ('customers', 'NOUN'), ('walk', 'VERB'), ('in', 'ADP'), ('the', 'DET'), ('door', 'NOUN'), ('*-1', 'X'), ('expecting', 'VERB'), ('you', 'PRON'), ('to', 'PRT'), ('have', 'VERB'), ('a', 'DET'), ('package', 'NOUN'), ('especially', 'ADV'), ('for', 'ADP'), ('them', 'PRON'), (',', '.'), (\"''\", '.'), ('Ms.', 'NOUN'), ('Moore', 'NOUN'), ('says', 'VERB'), ('*T*-2', 'X'), ('.', '.')]]\n",
      "3718\n",
      "[[('Investors', 'NOUN'), ('took', 'VERB'), ('advantage', 'NOUN'), ('of', 'ADP'), ('Tuesday', 'NOUN'), (\"'s\", 'PRT'), ('stock', 'NOUN'), ('rally', 'NOUN'), ('*-1', 'X'), ('to', 'PRT'), ('book', 'VERB'), ('some', 'DET'), ('profits', 'NOUN'), ('yesterday', 'NOUN'), (',', '.'), ('*-1', 'X'), ('leaving', 'VERB'), ('stocks', 'ADV'), ('up', 'ADP'), ('fractionally', 'ADV'), ('.', '.')], [('Buying', 'VERB'), ('for', 'ADP'), ('the', 'DET'), ('most', 'ADJ'), ('part', 'NOUN'), ('carried', 'VERB'), ('over', 'PRT'), ('from', 'ADP'), ('the', 'DET'), ('previous', 'ADJ'), ('session', 'NOUN'), (',', '.'), ('and', 'CONJ'), ('traders', 'NOUN'), ('apparently', 'ADV'), ('ignored', 'VERB'), ('reports', 'NOUN'), ('that', 'ADP'), ('a', 'DET'), ('Chilean', 'ADJ'), ('mine', 'ADJ'), ('strike', 'NOUN'), ('may', 'VERB'), ('have', 'VERB'), ('ended', 'VERB'), ('almost', 'ADV'), ('before', 'ADP'), ('it', 'PRON'), ('began', 'VERB'), (',', '.'), ('an', 'DET'), ('analyst', 'NOUN'), ('said', 'VERB'), ('0', 'X'), ('*T*-1', 'X'), ('.', '.')]]\n",
      "196\n"
     ]
    }
   ],
   "source": [
    "from sklearn.model_selection import train_test_split\n",
    "import random\n",
    "\n",
    "random.seed(9999)\n",
    "train_set, validation_set = train_test_split(nltk_data, train_size=0.95, random_state=100)\n",
    "train_tagged_words = [tup for sent in train_set for tup in sent]\n",
    "\n",
    "print(train_set[:2])\n",
    "print(len(train_set))\n",
    "\n",
    "print(validation_set[:2])\n",
    "print(len(validation_set))"
   ]
  },
  {
   "cell_type": "markdown",
   "metadata": {},
   "source": [
    "Read the test file and display it in a dataframe"
   ]
  },
  {
   "cell_type": "code",
   "execution_count": 4,
   "metadata": {
    "scrolled": false
   },
   "outputs": [
    {
     "data": {
      "text/html": [
       "<div>\n",
       "<style scoped>\n",
       "    .dataframe tbody tr th:only-of-type {\n",
       "        vertical-align: middle;\n",
       "    }\n",
       "\n",
       "    .dataframe tbody tr th {\n",
       "        vertical-align: top;\n",
       "    }\n",
       "\n",
       "    .dataframe thead th {\n",
       "        text-align: right;\n",
       "    }\n",
       "</style>\n",
       "<table border=\"1\" class=\"dataframe\">\n",
       "  <thead>\n",
       "    <tr style=\"text-align: right;\">\n",
       "      <th></th>\n",
       "      <th>0</th>\n",
       "    </tr>\n",
       "  </thead>\n",
       "  <tbody>\n",
       "    <tr>\n",
       "      <th>0</th>\n",
       "      <td>Android is a mobile operating system developed by Google.</td>\n",
       "    </tr>\n",
       "    <tr>\n",
       "      <th>1</th>\n",
       "      <td>Android has been the best-selling OS worldwide on smartphones since 2011 and on tablets since 2013.</td>\n",
       "    </tr>\n",
       "    <tr>\n",
       "      <th>2</th>\n",
       "      <td>Google and Twitter made a deal in 2015 that gave Google access to Twitter's firehose.</td>\n",
       "    </tr>\n",
       "    <tr>\n",
       "      <th>3</th>\n",
       "      <td>Twitter is an online news and social networking service on which users post and interact with messages known as tweets.</td>\n",
       "    </tr>\n",
       "    <tr>\n",
       "      <th>4</th>\n",
       "      <td>Before entering politics, Donald Trump was a domineering businessman and a television personality.</td>\n",
       "    </tr>\n",
       "    <tr>\n",
       "      <th>5</th>\n",
       "      <td>The 2018 FIFA World Cup is the 21st FIFA World Cup, an international football tournament contested once every four years.</td>\n",
       "    </tr>\n",
       "    <tr>\n",
       "      <th>6</th>\n",
       "      <td>This is the first World Cup to be held in Eastern Europe and the 11th time that it has been held in Europe.</td>\n",
       "    </tr>\n",
       "    <tr>\n",
       "      <th>7</th>\n",
       "      <td>Show me the cheapest round trips from Dallas to Atlanta</td>\n",
       "    </tr>\n",
       "    <tr>\n",
       "      <th>8</th>\n",
       "      <td>I would like to see flights from Denver to Philadelphia.</td>\n",
       "    </tr>\n",
       "    <tr>\n",
       "      <th>9</th>\n",
       "      <td>Show me the price of the flights leaving Atlanta at about 3 in the afternoon and arriving in San Francisco.</td>\n",
       "    </tr>\n",
       "    <tr>\n",
       "      <th>10</th>\n",
       "      <td>NASA invited social media users to experience the launch of ICESAT-2 Satellite.</td>\n",
       "    </tr>\n",
       "  </tbody>\n",
       "</table>\n",
       "</div>"
      ],
      "text/plain": [
       "                                                                                                                            0\n",
       "0                                                                   Android is a mobile operating system developed by Google.\n",
       "1                         Android has been the best-selling OS worldwide on smartphones since 2011 and on tablets since 2013.\n",
       "2                                       Google and Twitter made a deal in 2015 that gave Google access to Twitter's firehose.\n",
       "3     Twitter is an online news and social networking service on which users post and interact with messages known as tweets.\n",
       "4                          Before entering politics, Donald Trump was a domineering businessman and a television personality.\n",
       "5   The 2018 FIFA World Cup is the 21st FIFA World Cup, an international football tournament contested once every four years.\n",
       "6                 This is the first World Cup to be held in Eastern Europe and the 11th time that it has been held in Europe.\n",
       "7                                                                     Show me the cheapest round trips from Dallas to Atlanta\n",
       "8                                                                    I would like to see flights from Denver to Philadelphia.\n",
       "9                 Show me the price of the flights leaving Atlanta at about 3 in the afternoon and arriving in San Francisco.\n",
       "10                                            NASA invited social media users to experience the launch of ICESAT-2 Satellite."
      ]
     },
     "execution_count": 4,
     "metadata": {},
     "output_type": "execute_result"
    }
   ],
   "source": [
    "import pandas as pd\n",
    "\n",
    "pd.set_option('display.max_colwidth', None)\n",
    "text = pd.read_csv(\"test_sentences.txt\", delimiter=\"\\t\", header=None)\n",
    "text"
   ]
  },
  {
   "cell_type": "code",
   "execution_count": 5,
   "metadata": {},
   "outputs": [],
   "source": [
    "from nltk.tokenize import word_tokenize\n",
    "\n",
    "with open(\"test_sentences.txt\", \"r\") as file:\n",
    "    content = file.readlines()\n",
    "\n",
    "file_content = [line for line in content if line != '\\n']\n",
    "\n",
    "test_sentence_list = [sentence for sentence in file_content]\n",
    "test_list = [word for sentence in file_content for word in word_tokenize(sentence)]"
   ]
  },
  {
   "cell_type": "code",
   "execution_count": 6,
   "metadata": {},
   "outputs": [],
   "source": [
    "# number of tags in the training set\n",
    "T = set([pair[1] for pair in train_tagged_words])"
   ]
  },
  {
   "cell_type": "markdown",
   "metadata": {},
   "source": [
    "### Build the vanilla Viterbi based POS tagger"
   ]
  },
  {
   "cell_type": "code",
   "execution_count": 7,
   "metadata": {},
   "outputs": [],
   "source": [
    "# compute word given tag: Emission Probability\n",
    "def word_given_tag(word, tag, train_bag = train_tagged_words):\n",
    "    tag_list = [pair for pair in train_bag if pair[1]==tag]\n",
    "    count_tag = len(tag_list)\n",
    "    w_given_tag_list = [pair[0] for pair in tag_list if pair[0]==word]\n",
    "    count_w_given_tag = len(w_given_tag_list)\n",
    "    \n",
    "    return (count_w_given_tag, count_tag)"
   ]
  },
  {
   "cell_type": "code",
   "execution_count": 8,
   "metadata": {},
   "outputs": [],
   "source": [
    "# compute tag given tag: tag2(t2) given tag1 (t1), i.e. Transition Probability\n",
    "def t2_given_t1(t2, t1, train_bag = train_tagged_words):\n",
    "    tags = [pair[1] for pair in train_bag]\n",
    "    count_t1 = len([t for t in tags if t==t1])\n",
    "    count_t2_t1 = 0\n",
    "    for index in range(len(tags)-1):\n",
    "        if tags[index]==t1 and tags[index+1] == t2:\n",
    "            count_t2_t1 += 1\n",
    "    return (count_t2_t1, count_t1)"
   ]
  },
  {
   "cell_type": "code",
   "execution_count": 9,
   "metadata": {},
   "outputs": [],
   "source": [
    "# Viterbi Heuristic\n",
    "T = list(set([pair[1] for pair in train_tagged_words]))\n",
    "\n",
    "def vanilla_viterbi(words, train_bag = train_tagged_words):\n",
    "    state = []\n",
    "    \n",
    "    for key, word in enumerate(words):\n",
    "        #initialise list of probability column for a given observation\n",
    "        p = [] \n",
    "        for tag in T:\n",
    "            if key == 0:\n",
    "                transition_p = tags_df.loc['.', tag]\n",
    "            else:\n",
    "                transition_p = tags_df.loc[state[-1], tag]\n",
    "                \n",
    "            # compute emission and state probabilities\n",
    "            result = word_given_tag(word, tag)\n",
    "            emission_p = result[0]/result[1]\n",
    "            state_probability = emission_p * transition_p    \n",
    "            p.append(state_probability)\n",
    "            \n",
    "        pmax = max(p)\n",
    "        # getting state for which probability is maximum\n",
    "        state_max = T[p.index(pmax)] \n",
    "        state.append(state_max)\n",
    "    return list(zip(words, state))"
   ]
  },
  {
   "cell_type": "code",
   "execution_count": 10,
   "metadata": {},
   "outputs": [
    {
     "name": "stdout",
     "output_type": "stream",
     "text": [
      "['ADP', 'NUM', 'DET', 'ADJ', 'CONJ', 'PRT', 'VERB', 'X', 'PRON', 'ADV', 'NOUN', '.']\n"
     ]
    }
   ],
   "source": [
    "import numpy as np\n",
    "\n",
    "# creating t x t transition matrix of tags\n",
    "# each column is t2, each row is t1\n",
    "# thus M(i, j) represents P(tj given ti)\n",
    "\n",
    "print(T)\n",
    "\n",
    "tags_matrix = np.zeros((len(T), len(T)), dtype='float32')\n",
    "for i, t1 in enumerate(list(T)):\n",
    "    for j, t2 in enumerate(list(T)):\n",
    "        #print(t2 + \" \" + t1)\n",
    "        tags_matrix[i, j] = t2_given_t1(t2, t1)[0]/t2_given_t1(t2, t1)[1]"
   ]
  },
  {
   "cell_type": "code",
   "execution_count": 11,
   "metadata": {},
   "outputs": [],
   "source": [
    "# convert the matrix to a df for better readability\n",
    "tags_df = pd.DataFrame(tags_matrix, columns = list(T), index=list(T))"
   ]
  },
  {
   "cell_type": "markdown",
   "metadata": {},
   "source": [
    "Create a function that executes the different viterbi implementations and returns the accuracy, list of incorrect cases and the "
   ]
  },
  {
   "cell_type": "code",
   "execution_count": 12,
   "metadata": {},
   "outputs": [],
   "source": [
    "import time\n",
    "\n",
    "def run_viterbi(test_sentences, viterbi):\n",
    "    # Get test words from test_sentences\n",
    "    test_run_tuples = [tup for sentences in test_sentences for tup in sentences]\n",
    "    test_words = [tup[0] for tup in test_run_tuples]\n",
    "    \n",
    "    start = time.time()\n",
    "    # Tagging the test sentences\n",
    "    tagged_sequence = viterbi(test_words)\n",
    "    \n",
    "    difference = round(time.time()-start, 2)\n",
    "    print(f\"Time taken: {difference} s\")\n",
    "\n",
    "    # Check Accuracy\n",
    "    correctly_tagged_cases = [i for i, j in zip(tagged_sequence, test_run_tuples) if i == j]\n",
    "    accuracy = round(len(correctly_tagged_cases)*100/len(tagged_sequence), 2)\n",
    "    print(f\"Accuracy: {accuracy}%\")\n",
    "    \n",
    "    # Print Incorrectly tagged cases\n",
    "    incorrectly_tagged_cases = [[test_run_tuples[i-1],j] for i, j in enumerate(zip(tagged_sequence, test_run_tuples)) if j[0]!=j[1]]\n",
    "    print(f\"Number of incorrectly tagged words: {len(incorrectly_tagged_cases)}\")\n",
    "\n",
    "    return (accuracy, incorrectly_tagged_cases, difference)"
   ]
  },
  {
   "cell_type": "code",
   "execution_count": 13,
   "metadata": {
    "scrolled": false
   },
   "outputs": [
    {
     "name": "stdout",
     "output_type": "stream",
     "text": [
      "Time taken: 277.66 s\n",
      "Accuracy: 90.42%\n",
      "Number of incorrectly tagged words: 453\n"
     ]
    }
   ],
   "source": [
    "vanilla_viterbi_validation_results = run_viterbi(validation_set, vanilla_viterbi)"
   ]
  },
  {
   "cell_type": "markdown",
   "metadata": {},
   "source": [
    "### Running vanilla Viterbi on the test data"
   ]
  },
  {
   "cell_type": "code",
   "execution_count": 14,
   "metadata": {},
   "outputs": [
    {
     "name": "stdout",
     "output_type": "stream",
     "text": [
      "[('Android', 'ADP'), ('is', 'VERB'), ('a', 'DET'), ('mobile', 'ADJ'), ('operating', 'NOUN'), ('system', 'NOUN'), ('developed', 'VERB'), ('by', 'ADP'), ('Google', 'ADP'), ('.', '.'), ('Android', 'ADP'), ('has', 'VERB'), ('been', 'VERB'), ('the', 'DET'), ('best-selling', 'ADJ'), ('OS', 'ADP'), ('worldwide', 'ADP'), ('on', 'ADP'), ('smartphones', 'ADP'), ('since', 'ADP'), ('2011', 'ADP'), ('and', 'CONJ'), ('on', 'ADP'), ('tablets', 'NOUN'), ('since', 'ADP'), ('2013', 'ADP'), ('.', '.'), ('Google', 'ADP'), ('and', 'CONJ'), ('Twitter', 'ADP'), ('made', 'VERB'), ('a', 'DET'), ('deal', 'NOUN'), ('in', 'ADP'), ('2015', 'ADP'), ('that', 'DET'), ('gave', 'VERB'), ('Google', 'ADP'), ('access', 'NOUN'), ('to', 'PRT'), ('Twitter', 'ADP'), (\"'s\", 'PRT'), ('firehose', 'ADP'), ('.', '.'), ('Twitter', 'ADP'), ('is', 'VERB'), ('an', 'DET'), ('online', 'ADP'), ('news', 'NOUN'), ('and', 'CONJ'), ('social', 'ADJ'), ('networking', 'NOUN'), ('service', 'NOUN'), ('on', 'ADP'), ('which', 'DET'), ('users', 'NOUN'), ('post', 'NOUN'), ('and', 'CONJ'), ('interact', 'ADP'), ('with', 'ADP'), ('messages', 'ADP'), ('known', 'ADJ'), ('as', 'ADP'), ('tweets', 'ADP'), ('.', '.'), ('Before', 'ADP'), ('entering', 'VERB'), ('politics', 'NOUN'), (',', '.'), ('Donald', 'NOUN'), ('Trump', 'NOUN'), ('was', 'VERB'), ('a', 'DET'), ('domineering', 'ADP'), ('businessman', 'NOUN'), ('and', 'CONJ'), ('a', 'DET'), ('television', 'NOUN'), ('personality', 'ADP'), ('.', '.'), ('The', 'DET'), ('2018', 'ADP'), ('FIFA', 'ADP'), ('World', 'NOUN'), ('Cup', 'ADP'), ('is', 'VERB'), ('the', 'DET'), ('21st', 'ADP'), ('FIFA', 'ADP'), ('World', 'NOUN'), ('Cup', 'ADP'), (',', '.'), ('an', 'DET'), ('international', 'ADJ'), ('football', 'NOUN'), ('tournament', 'ADP'), ('contested', 'ADP'), ('once', 'ADV'), ('every', 'DET'), ('four', 'NUM'), ('years', 'NOUN'), ('.', '.'), ('This', 'DET'), ('is', 'VERB'), ('the', 'DET'), ('first', 'ADJ'), ('World', 'NOUN'), ('Cup', 'ADP'), ('to', 'PRT'), ('be', 'VERB'), ('held', 'VERB'), ('in', 'ADP'), ('Eastern', 'NOUN'), ('Europe', 'NOUN'), ('and', 'CONJ'), ('the', 'DET'), ('11th', 'ADJ'), ('time', 'NOUN'), ('that', 'ADP'), ('it', 'PRON'), ('has', 'VERB'), ('been', 'VERB'), ('held', 'VERB'), ('in', 'ADP'), ('Europe', 'NOUN'), ('.', '.'), ('Show', 'NOUN'), ('me', 'PRON'), ('the', 'DET'), ('cheapest', 'ADJ'), ('round', 'NOUN'), ('trips', 'ADP'), ('from', 'ADP'), ('Dallas', 'NOUN'), ('to', 'PRT'), ('Atlanta', 'NOUN'), ('I', 'PRON'), ('would', 'VERB'), ('like', 'ADP'), ('to', 'PRT'), ('see', 'VERB'), ('flights', 'NOUN'), ('from', 'ADP'), ('Denver', 'NOUN'), ('to', 'PRT'), ('Philadelphia', 'NOUN'), ('.', '.'), ('Show', 'NOUN'), ('me', 'PRON'), ('the', 'DET'), ('price', 'NOUN'), ('of', 'ADP'), ('the', 'DET'), ('flights', 'NOUN'), ('leaving', 'VERB'), ('Atlanta', 'NOUN'), ('at', 'ADP'), ('about', 'ADP'), ('3', 'NUM'), ('in', 'ADP'), ('the', 'DET'), ('afternoon', 'NOUN'), ('and', 'CONJ'), ('arriving', 'ADP'), ('in', 'ADP'), ('San', 'NOUN'), ('Francisco', 'NOUN'), ('.', '.'), ('NASA', 'ADP'), ('invited', 'ADP'), ('social', 'ADJ'), ('media', 'NOUN'), ('users', 'NOUN'), ('to', 'PRT'), ('experience', 'NOUN'), ('the', 'DET'), ('launch', 'NOUN'), ('of', 'ADP'), ('ICESAT-2', 'ADP'), ('Satellite', 'ADP'), ('.', '.')]\n"
     ]
    }
   ],
   "source": [
    "print(vanilla_viterbi(test_list))"
   ]
  },
  {
   "cell_type": "markdown",
   "metadata": {},
   "source": [
    "### Solve the problem of unknown words"
   ]
  },
  {
   "cell_type": "markdown",
   "metadata": {},
   "source": [
    "Display the mismatched words"
   ]
  },
  {
   "cell_type": "code",
   "execution_count": 15,
   "metadata": {
    "scrolled": true
   },
   "outputs": [
    {
     "name": "stdout",
     "output_type": "stream",
     "text": [
      "[[('to', 'PRT'), (('book', 'NOUN'), ('book', 'VERB'))], [('leaving', 'VERB'), (('stocks', 'NOUN'), ('stocks', 'ADV'))], [('stocks', 'ADV'), (('up', 'PRT'), ('up', 'ADP'))], [('carried', 'VERB'), (('over', 'ADP'), ('over', 'PRT'))], [('apparently', 'ADV'), (('ignored', 'ADP'), ('ignored', 'VERB'))], [('Chilean', 'ADJ'), (('mine', 'NOUN'), ('mine', 'ADJ'))], [('the', 'DET'), (('Palestinian', 'ADJ'), ('Palestinian', 'NOUN'))], [('committee', 'NOUN'), (('first', 'ADJ'), ('first', 'ADV'))], [('.', '.'), (('Preston', 'ADP'), ('Preston', 'NOUN'))], [('Foster', 'NOUN'), (('Birmingham', 'ADP'), ('Birmingham', 'NOUN'))], [(',', '.'), (('Ala', 'ADP'), ('Ala', 'NOUN'))], [('has', 'VERB'), (('clamped', 'ADP'), ('clamped', 'VERB'))], [('their', 'PRON'), (('ankle', 'ADP'), ('ankle', 'NOUN'))], [('the', 'DET'), (('third-largest', 'ADP'), ('third-largest', 'ADJ'))], [('the', 'DET'), (('fifth-largest', 'ADP'), ('fifth-largest', 'ADJ'))], [('Charles', 'NOUN'), (('Z.', 'ADP'), ('Z.', 'NOUN'))], [('Z.', 'NOUN'), (('Wick', 'ADP'), ('Wick', 'NOUN'))], [('#', '.'), (('89.7', 'ADP'), ('89.7', 'NUM'))], [('$', '.'), (('141.9', 'ADP'), ('141.9', 'NUM'))], [('#', '.'), (('94.8', 'ADP'), ('94.8', 'NUM'))], [('$', '.'), (('149.9', 'ADP'), ('149.9', 'NUM'))], [('he', 'PRON'), (('argues', 'ADP'), ('argues', 'VERB'))], [('*', 'X'), (('Sit', 'ADP'), ('Sit', 'VERB'))], [('The', 'DET'), (('British', 'ADJ'), ('British', 'NOUN'))], [('to', 'PRT'), (('halt', 'NOUN'), ('halt', 'VERB'))], [('Dow', 'NOUN'), (('slides', 'NOUN'), ('slides', 'VERB'))], [('where', 'ADV'), (('most', 'ADJ'), ('most', 'ADV'))], [('as', 'ADP'), (('athletic', 'ADP'), ('athletic', 'ADJ'))], [('*-2', 'X'), (('to', 'PRT'), ('to', 'ADJ'))], [('1990', 'NUM'), (('better', 'ADJ'), ('better', 'ADV'))], [('*ICH*-1', 'X'), (('illustrates', 'ADP'), ('illustrates', 'VERB'))], [(\"'s\", 'PRT'), (('attempt', 'VERB'), ('attempt', 'NOUN'))], [('to', 'PRT'), (('usurp', 'ADP'), ('usurp', 'VERB'))], [('Section', 'NOUN'), (('609', 'ADP'), ('609', 'NUM'))], [('the', 'DET'), (('executive-office', 'ADP'), ('executive-office', 'NOUN'))], [(',', '.'), (('administer', 'ADP'), ('administer', 'VERB'))], [('been', 'VERB'), (('disapproved', 'ADP'), ('disapproved', 'VERB'))], [('disapproved', 'VERB'), (('*-58', 'ADP'), ('*-58', 'X'))], [('of', 'ADP'), (('disapproval', 'ADP'), ('disapproval', 'NOUN'))], [('in', 'ADP'), (('accordance', 'ADP'), ('accordance', 'NOUN'))], [('the', 'DET'), (('applicable', 'ADP'), ('applicable', 'ADJ'))], [(\"''\", '.'), (('Mead', 'ADP'), ('Mead', 'NOUN'))], [('Federal', 'NOUN'), (('Paper', 'ADP'), ('Paper', 'NOUN'))], [('Scott', 'NOUN'), (('Paper', 'ADP'), ('Paper', 'NOUN'))], [('International', 'NOUN'), (('Paper', 'ADP'), ('Paper', 'NOUN'))], [('and', 'CONJ'), (('Louisiana-Pacific', 'ADP'), ('Louisiana-Pacific', 'NOUN'))], [('.', '.'), (('Five', 'ADP'), ('Five', 'NUM'))], [('Peter', 'NOUN'), (('DeFazio', 'ADP'), ('DeFazio', 'NOUN'))], [('previous', 'ADJ'), (('criteria', 'ADP'), ('criteria', 'NOUN'))], [('.', '.'), (('Proper', 'ADP'), ('Proper', 'ADJ'))], [('``', '.'), (('rounds', 'ADP'), ('rounds', 'NOUN'))], [('the', 'DET'), (('highest-pitched', 'ADP'), ('highest-pitched', 'ADJ'))], [('simple', 'ADJ'), (('descending', 'ADP'), ('descending', 'VERB'))], [(',', '.'), (('as', 'ADP'), ('as', 'ADV'))], [('the', 'DET'), (('62-year-old', 'ADP'), ('62-year-old', 'ADJ'))], [('chief', 'NOUN'), (('executive', 'NOUN'), ('executive', 'ADJ'))], [('the', 'DET'), (('forest-product', 'ADP'), ('forest-product', 'NOUN'))], [(\"'s\", 'PRT'), (('unsolicited', 'ADP'), ('unsolicited', 'ADJ'))], [('$', '.'), (('3.19', 'ADP'), ('3.19', 'NUM'))], [('*U*', 'X'), (('bid', 'VERB'), ('bid', 'NOUN'))], [('companies', 'NOUN'), (('that', 'ADP'), ('that', 'DET'))], [('have', 'VERB'), (('diversified', 'ADJ'), ('diversified', 'VERB'))], [('all', 'DET'), (('that', 'ADP'), ('that', 'DET'))], [('that', 'DET'), (('impressive', 'ADP'), ('impressive', 'ADJ'))], [('will', 'VERB'), (('issue', 'NOUN'), ('issue', 'VERB'))], [('of', 'ADP'), (('29year', 'ADP'), ('29year', 'ADJ'))], [(',', '.'), (('nine-month', 'ADP'), ('nine-month', 'ADJ'))], [('bond', 'NOUN'), (('that', 'ADP'), ('that', 'DET'))], [('.', '.'), (('ECONOMIC', 'ADP'), ('ECONOMIC', 'ADJ'))], [('ECONOMIC', 'ADJ'), (('GROWTH', 'ADP'), ('GROWTH', 'NOUN'))], [('GROWTH', 'NOUN'), (('APPEARS', 'ADP'), ('APPEARS', 'VERB'))], [('leveling', 'VERB'), (('off', 'PRT'), ('off', 'ADP'))], [(\"'s\", 'VERB'), (('that', 'ADP'), ('that', 'DET'))], [('Michelin', 'NOUN'), (('S.A', 'ADP'), ('S.A', 'NOUN'))], [(',', '.'), (('U.S.-Japanese', 'ADP'), ('U.S.-Japanese', 'ADJ'))], [('economic', 'ADJ'), (('behemoth', 'ADP'), ('behemoth', 'NOUN'))], [('which', 'DET'), (('*T*-174', 'ADP'), ('*T*-174', 'X'))], [('operates', 'VERB'), (('hotels', 'ADP'), ('hotels', 'NOUN'))], [('rights', 'NOUN'), (('that', 'ADP'), ('that', 'DET'))], [('that', 'DET'), (('*T*-175', 'ADP'), ('*T*-175', 'X'))], [('by', 'ADP'), (('masters', 'ADP'), ('masters', 'NOUN'))], [('.', '.'), (('Tiny', 'ADP'), ('Tiny', 'NOUN'))], [('Tiny', 'NOUN'), (('Tots', 'ADP'), ('Tots', 'NOUN'))], [('is', 'VERB'), (('up', 'ADV'), ('up', 'ADP'))], [('the', 'DET'), (('past', 'ADJ'), ('past', 'NOUN'))], [('*T*-2', 'X'), (('Kelli', 'ADP'), ('Kelli', 'NOUN'))], [('Kelli', 'NOUN'), (('Green', 'ADP'), ('Green', 'NOUN'))], [('Greenville', 'NOUN'), (('senior', 'ADJ'), ('senior', 'NOUN'))], [('to', 'PRT'), (('speculate', 'ADP'), ('speculate', 'VERB'))], [('Japan', 'NOUN'), (('yen-support', 'ADP'), ('yen-support', 'ADJ'))], [('yen-support', 'ADJ'), (('intervention', 'ADP'), ('intervention', 'NOUN'))], [('the', 'DET'), (('150.00', 'ADP'), ('150.00', 'NUM'))], [('in', 'ADP'), (('excess', 'ADJ'), ('excess', 'NOUN'))], [('or', 'CONJ'), (('about', 'ADP'), ('about', 'ADV'))], [('stepping', 'VERB'), (('up', 'ADV'), ('up', 'PRT'))], [('no', 'DET'), (('smiles', 'ADP'), ('smiles', 'NOUN'))], [(',', '.'), (('Mont', 'ADP'), ('Mont', 'NOUN'))], [('the', 'DET'), (('exits', 'ADP'), ('exits', 'NOUN'))], [('market', 'NOUN'), (('rebound', 'VERB'), ('rebound', 'NOUN'))], [('rebound', 'NOUN'), (('pushes', 'ADP'), ('pushes', 'VERB'))], [('*-1', 'X'), (('Left', 'ADP'), ('Left', 'VERB'))], [('and', 'CONJ'), (('more', 'ADJ'), ('more', 'ADV'))], [('scores', 'NOUN'), (('so', 'ADP'), ('so', 'ADV'))], [('so', 'ADV'), (('much', 'ADJ'), ('much', 'ADV'))], [('.', '.'), (('Sandoz', 'ADP'), ('Sandoz', 'NOUN'))], [('conducting', 'VERB'), (('preclinical', 'ADP'), ('preclinical', 'ADJ'))], [('``', '.'), (('vague', 'ADP'), ('vague', 'ADJ'))], [('and', 'CONJ'), (('mushy', 'ADP'), ('mushy', 'ADJ'))], [(\"''\", '.'), (('that', 'DET'), ('that', 'ADP'))], [('all', 'DET'), (('viewpoints', 'ADP'), ('viewpoints', 'NOUN'))], [('come', 'VERB'), (('out', 'PRT'), ('out', 'ADV'))], [('Salon', 'NOUN'), (('le', 'ADP'), ('le', 'DET'))], [('$', '.'), (('115', 'ADP'), ('115', 'NUM'))], [('the', 'DET'), (('genie', 'ADP'), ('genie', 'NOUN'))], [('The', 'DET'), (('len', 'ADP'), ('len', 'NOUN'))], [(\"'s\", 'PRT'), (('foldability', 'ADP'), ('foldability', 'NOUN'))], [('be', 'VERB'), (('inserted', 'ADP'), ('inserted', 'VERB'))], [('smaller', 'ADJ'), (('incisions', 'ADP'), ('incisions', 'NOUN'))], [('the', 'DET'), (('eye', 'ADP'), ('eye', 'NOUN'))], [('skin', 'NOUN'), (('care', 'VERB'), ('care', 'NOUN'))], [('could', 'VERB'), (('clear', 'ADJ'), ('clear', 'VERB'))], [('an', 'DET'), (('ethanol', 'ADP'), ('ethanol', 'NOUN'))], [('to', 'PRT'), (('fuel', 'NOUN'), ('fuel', 'VERB'))], [('national', 'ADJ'), (('fleet', 'ADP'), ('fleet', 'NOUN'))], [('.', '.'), (('Lucille', 'ADP'), ('Lucille', 'NOUN'))], [('an', 'DET'), (('84-year-old', 'ADP'), ('84-year-old', 'ADJ'))], [('Chicago', 'NOUN'), (('housewife', 'ADP'), ('housewife', 'NOUN'))], [('become', 'VERB'), (('amazingly', 'ADP'), ('amazingly', 'ADV'))], [('stock-market', 'NOUN'), (('jolts', 'ADP'), ('jolts', 'NOUN'))], [('.', '.'), (('DISCOUNT', 'ADP'), ('DISCOUNT', 'NOUN'))], [('in', 'ADP'), (('sight', 'ADP'), ('sight', 'NOUN'))], [('many', 'ADJ'), (('*T*-178', 'ADP'), ('*T*-178', 'X'))], [('Ms.', 'NOUN'), (('Kirkpatrick', 'ADP'), ('Kirkpatrick', 'NOUN'))], [('barred', 'VERB'), (('*-154', 'ADP'), ('*-154', 'X'))], [('.', '.'), (('Sumitomo', 'ADP'), ('Sumitomo', 'NOUN'))], [('Sumitomo', 'NOUN'), (('Metal', 'ADP'), ('Metal', 'NOUN'))], [('to', 'PRT'), (('692', 'ADP'), ('692', 'NUM'))], [('to', 'PRT'), (('960', 'ADP'), ('960', 'NUM'))], [('an', 'DET'), (('individual', 'ADJ'), ('individual', 'NOUN'))], [('to', 'PRT'), (('51.6', 'ADP'), ('51.6', 'NUM'))], [('of', 'ADP'), (('readings', 'ADP'), ('readings', 'NOUN'))], [('is', 'VERB'), (('wrestling', 'ADP'), ('wrestling', 'VERB'))], [('especially', 'ADV'), (('intelligent', 'ADP'), ('intelligent', 'ADJ'))], [('temporarily', 'ADV'), (('insane', 'ADP'), ('insane', 'ADJ'))], [('programs', 'NOUN'), (('that', 'ADP'), ('that', 'DET'))], [('seem', 'VERB'), (('tailor-made', 'ADP'), ('tailor-made', 'ADJ'))], [('buying', 'VERB'), (('more', 'ADV'), ('more', 'ADJ'))], [('The', 'DET'), (('purhasing', 'ADP'), ('purhasing', 'NOUN'))], [(\"'\", 'PRT'), (('report', 'VERB'), ('report', 'NOUN'))], [('bad', 'ADJ'), (('movies', 'ADP'), ('movies', 'NOUN'))], [('Gregory', 'NOUN'), (('Peck', 'ADP'), ('Peck', 'NOUN'))], [('a', 'DET'), (('marvelously', 'ADP'), ('marvelously', 'ADV'))], [('marvelously', 'ADV'), (('loose', 'ADP'), ('loose', 'ADJ'))], [('energetic', 'ADJ'), (('portrayal', 'ADP'), ('portrayal', 'NOUN'))], [(\"'s\", 'PRT'), (('work', 'VERB'), ('work', 'NOUN'))], [('work', 'NOUN'), (('force', 'VERB'), ('force', 'NOUN'))], [('.', '.'), (('Cataracts', 'ADP'), ('Cataracts', 'NOUN'))], [('Cataracts', 'NOUN'), (('refer', 'ADP'), ('refer', 'VERB'))], [('a', 'DET'), (('clouding', 'ADP'), ('clouding', 'NOUN'))], [('the', 'DET'), (('eye', 'ADP'), ('eye', 'NOUN'))], [('sold', 'VERB'), (('*-107', 'ADP'), ('*-107', 'X'))], [('raise', 'VERB'), (('about', 'ADP'), ('about', 'ADV'))], [('in', 'ADP'), (('maturing', 'ADP'), ('maturing', 'VERB'))], [('stand', 'VERB'), (('up', 'ADV'), ('up', 'PRT'))], [('``', '.'), (('filled', 'ADP'), ('filled', 'VERB'))], [('the', 'DET'), (('solemn', 'ADP'), ('solemn', 'ADJ'))], [('solemn', 'ADJ'), (('intoxication', 'ADP'), ('intoxication', 'NOUN'))], [('that', 'DET'), (('*T*-226', 'ADP'), ('*T*-226', 'X'))], [('of', 'ADP'), (('intricate', 'ADP'), ('intricate', 'ADJ'))], [('intricate', 'ADJ'), (('ritual', 'ADP'), ('ritual', 'NOUN'))], [('ritual', 'NOUN'), (('faultlessly', 'ADP'), ('faultlessly', 'ADV'))], [('questionable', 'ADJ'), (('properties', 'ADP'), ('properties', 'NOUN'))], [('.', '.'), (('Indexing', 'ADP'), ('Indexing', 'NOUN'))], [('stock-market', 'NOUN'), (('barometer', 'ADP'), ('barometer', 'NOUN'))], [('not', 'ADV'), (('panic', 'NOUN'), ('panic', 'VERB'))], [('seen', 'VERB'), (('so', 'ADV'), ('so', 'ADP'))], [('people', 'NOUN'), (('crying', 'ADP'), ('crying', 'VERB'))], [('an', 'DET'), (('assistant', 'NOUN'), ('assistant', 'ADJ'))], [('in', 'ADP'), (('Ilminster', 'ADP'), ('Ilminster', 'NOUN'))], [(',', '.'), (('Somerset', 'ADP'), ('Somerset', 'NOUN'))], [('silent', 'ADJ'), (('following', 'NOUN'), ('following', 'VERB'))], [('a', 'DET'), (('dust-up', 'ADP'), ('dust-up', 'NOUN'))], [('church', 'NOUN'), (('attendance', 'ADP'), ('attendance', 'NOUN'))], [('by', 'ADP'), (('about', 'ADP'), ('about', 'ADV'))], [('to', 'PRT'), (('8.75', 'ADP'), ('8.75', 'NUM'))], [('has', 'VERB'), (('shown', 'ADP'), ('shown', 'VERB'))], [('.', '.'), (('Video', 'ADP'), ('Video', 'NOUN'))], [('Video', 'NOUN'), (('Tip', 'ADP'), ('Tip', 'NOUN'))], [('his', 'PRON'), (('finest', 'ADP'), ('finest', 'ADJ'))], [('$', '.'), (('472', 'ADP'), ('472', 'NUM'))], [('much', 'ADV'), (('defeats', 'ADP'), ('defeats', 'VERB'))], [('any', 'DET'), (('inkling', 'ADP'), ('inkling', 'NOUN'))], [('inkling', 'NOUN'), (('that', 'DET'), ('that', 'ADP'))], [('poor', 'ADJ'), (('underprivileged', 'ADP'), ('underprivileged', 'ADJ'))], [('the', 'DET'), (('prosecutor', 'ADP'), ('prosecutor', 'NOUN'))], [('who', 'PRON'), (('*T*-96', 'ADP'), ('*T*-96', 'X'))], [(\"'s\", 'PRT'), (('alumni', 'ADP'), ('alumni', 'NOUN'))], [('has', 'VERB'), (('cultivated', 'ADP'), ('cultivated', 'VERB'))], [('a', 'DET'), (('much', 'ADJ'), ('much', 'ADV'))], [('much', 'ADV'), (('savvier', 'ADP'), ('savvier', 'ADJ'))], [('take', 'VERB'), (('much', 'ADV'), ('much', 'ADJ'))], [('get', 'VERB'), (('burned', 'ADP'), ('burned', 'VERB'))], [('their', 'PRON'), (('wrath', 'ADP'), ('wrath', 'NOUN'))], [('conservative', 'ADJ'), (('Californian', 'ADP'), ('Californian', 'NOUN'))], [('assist', 'VERB'), (('Bolivia', 'ADP'), ('Bolivia', 'NOUN'))], [('then', 'ADV'), (('broadened', 'ADP'), ('broadened', 'VERB'))], [('Basin', 'NOUN'), (('initiate', 'ADP'), ('initiate', 'NOUN'))], [('initiate', 'NOUN'), (('as', 'ADP'), ('as', 'ADV'))], [('Maxwell', 'NOUN'), (('R.D.', 'ADP'), ('R.D.', 'NOUN'))], [('R.D.', 'NOUN'), (('Vos', 'ADP'), ('Vos', 'NOUN'))], [(',', '.'), (('N.Y', 'ADP'), ('N.Y', 'NOUN'))], [('were', 'VERB'), (('delayed', 'ADP'), ('delayed', 'VERB'))], [('bureaucracy', 'NOUN'), (('as', 'ADP'), ('as', 'ADV'))], [('extremely', 'ADV'), (('confused', 'ADJ'), ('confused', 'VERB'))], [('look', 'VERB'), (('around', 'ADP'), ('around', 'PRT'))], [('or', 'CONJ'), (('accountants', 'ADP'), ('accountants', 'NOUN'))], [('nobody', 'NOUN'), (('blinks', 'ADP'), ('blinks', 'VERB'))], [('an', 'DET'), (('eye', 'ADP'), ('eye', 'NOUN'))], [('can', 'VERB'), (('bar', 'NOUN'), ('bar', 'VERB'))], [('programs', 'NOUN'), (('that', 'ADP'), ('that', 'DET'))], [('include', 'VERB'), (('abortion-related', 'ADP'), ('abortion-related', 'ADJ'))], [('*T*-1', 'X'), ((\"'s\", 'PRT'), (\"'s\", 'VERB'))], [(\"'s\", 'VERB'), (('more', 'ADJ'), ('more', 'ADV'))], [('To', 'PRT'), (('further', 'ADJ'), ('further', 'ADV'))], [('further', 'ADV'), (('load', 'NOUN'), ('load', 'VERB'))], [('Lane', 'NOUN'), (('dreamed', 'ADP'), ('dreamed', 'VERB'))], [('dreamed', 'VERB'), (('up', 'ADV'), ('up', 'PRT'))], [('highly', 'ADV'), (('improbable', 'ADP'), ('improbable', 'ADJ'))], [(\"'s\", 'PRT'), (('shop', 'ADP'), ('shop', 'NOUN'))], [('expensive', 'ADJ'), (('high-rise', 'ADP'), ('high-rise', 'ADJ'))], [('your', 'PRON'), (('help', 'VERB'), ('help', 'NOUN'))], [('giant', 'ADJ'), (('diagram', 'ADP'), ('diagram', 'NOUN'))], [('with', 'ADP'), (('arrows', 'ADP'), ('arrows', 'NOUN'))], [(\"'s\", 'PRT'), (('polystyrene', 'ADP'), ('polystyrene', 'NOUN'))], [('polystyrene', 'NOUN'), (('foam', 'ADP'), ('foam', 'NOUN'))], [(',', '.'), (('polyproplene', 'ADP'), ('polyproplene', 'NOUN'))], [('and', 'CONJ'), (('polyester', 'ADP'), ('polyester', 'NOUN'))], [('all', 'DET'), (('plastic', 'ADJ'), ('plastic', 'NOUN'))], [('are', 'VERB'), (('non-biodegradable', 'ADP'), ('non-biodegradable', 'ADJ'))], [('took', 'VERB'), (('over', 'ADP'), ('over', 'PRT'))], [(\"'s\", 'PRT'), (('seventh', 'ADP'), ('seventh', 'ADJ'))], [('The', 'DET'), ((\"'82\", 'ADP'), (\"'82\", 'NUM'))], [('$', '.'), (('115', 'ADP'), ('115', 'NUM'))], [('.', '.'), (('Researchers', 'ADP'), ('Researchers', 'NOUN'))], [('at', 'ADP'), (('American', 'ADJ'), ('American', 'NOUN'))], [('materials', 'NOUN'), (('closer', 'ADV'), ('closer', 'ADJ'))], [('*-1', 'X'), (('unwilling', 'ADP'), ('unwilling', 'ADJ'))], [('and', 'CONJ'), (('manpower', 'ADP'), ('manpower', 'NOUN'))], [('*', 'X'), (('removing', 'ADP'), ('removing', 'VERB'))], [('*', 'X'), (('safeguarding', 'ADP'), ('safeguarding', 'VERB'))], [('Linda', 'NOUN'), (('Anku', 'ADP'), ('Anku', 'NOUN'))], [('.', '.'), (('Ketchum', 'ADP'), ('Ketchum', 'NOUN'))], [('acquired', 'VERB'), (('Braun', 'ADP'), ('Braun', 'NOUN'))], [('Angeles', 'NOUN'), (('investor-relations', 'ADP'), ('investor-relations', 'NOUN'))], [('and', 'CONJ'), (('marketing-communications', 'ADP'), ('marketing-communications', 'NOUN'))], [('``', '.'), (('headed', 'ADP'), ('headed', 'VERB'))], [(\"n't\", 'ADV'), (('curbed', 'ADP'), ('curbed', 'VERB'))], [(',', '.'), (('index-fund', 'NOUN'), ('index-fund', 'ADJ'))], [('*-1', 'X'), (('leveraging', 'ADP'), ('leveraging', 'VERB'))], [('*-1', 'X'), (('owning', 'ADP'), ('owning', 'VERB'))], [('to', 'PRT'), (('own', 'ADJ'), ('own', 'VERB'))], [('had', 'VERB'), (('flirted', 'ADP'), ('flirted', 'VERB'))], [('buyers', 'NOUN'), (('charge', 'NOUN'), ('charge', 'VERB'))], [('the', 'DET'), (('American', 'ADJ'), ('American', 'NOUN'))], [('*T*-14', 'X'), (('matters', 'NOUN'), ('matters', 'VERB'))], [('doing', 'VERB'), (('fine', 'NOUN'), ('fine', 'ADV'))], [('and', 'CONJ'), (('chief', 'NOUN'), ('chief', 'ADJ'))], [('barred', 'VERB'), (('*-152', 'ADP'), ('*-152', 'X'))], [(\"'s\", 'PRT'), (('father-in-law', 'ADP'), ('father-in-law', 'NOUN'))], [(',', '.'), (('Gardner', 'ADP'), ('Gardner', 'NOUN'))], [('G.', 'NOUN'), (('Hubbard', 'ADP'), ('Hubbard', 'NOUN'))], [(',', '.'), (('wealthy', 'ADP'), ('wealthy', 'ADJ'))], [('and', 'CONJ'), (('well-connected', 'ADP'), ('well-connected', 'ADJ'))], [('obtained', 'VERB'), (('financing', 'VERB'), ('financing', 'NOUN'))], [('the', 'DET'), (('American', 'ADJ'), ('American', 'NOUN'))], [('to', 'PRT'), (('Moon', 'ADP'), ('Moon', 'NOUN'))], [('Moon', 'NOUN'), (('Landrieu', 'ADP'), ('Landrieu', 'NOUN'))], [('build', 'VERB'), (('that', 'ADP'), ('that', 'DET'))], [(\"'s\", 'PRT'), (('cavernous', 'ADP'), ('cavernous', 'ADJ'))], [(',', '.'), (('money-losing', 'ADP'), ('money-losing', 'ADJ'))], [('*T*-2', 'X'), (('benefits', 'NOUN'), ('benefits', 'VERB'))], [('little', 'ADJ'), (('relevance', 'ADP'), ('relevance', 'NOUN'))], [('the', 'DET'), (('U.S.', 'NOUN'), ('U.S.', 'ADJ'))], [('at', 'ADP'), (('143.93', 'ADP'), ('143.93', 'NUM'))], [('Tokyo', 'NOUN'), (('close', 'VERB'), ('close', 'NOUN'))], [('of', 'ADP'), (('143.08', 'ADP'), ('143.08', 'NUM'))], [('might', 'VERB'), (('appeal', 'NOUN'), ('appeal', 'VERB'))], [('expensive', 'ADJ'), (('cleanup', 'ADP'), ('cleanup', 'NOUN'))], [('or', 'CONJ'), (('burn', 'ADP'), ('burn', 'VERB'))], [('burn', 'VERB'), (('cleaner-burning', 'ADP'), ('cleaner-burning', 'ADJ'))], [('cleaner-burning', 'ADJ'), (('fuels', 'ADP'), ('fuels', 'NOUN'))], [('of', 'ADP'), (('858,000', 'ADP'), ('858,000', 'NUM'))], [('market', 'NOUN'), (('overvalued', 'ADP'), ('overvalued', 'VERB'))], [('.', '.'), (('Paris', 'ADP'), ('Paris', 'NOUN'))], [(',', '.'), (('Brussels', 'ADP'), ('Brussels', 'NOUN'))], [('and', 'CONJ'), (('Milan', 'ADP'), ('Milan', 'NOUN'))], [('II', 'NOUN'), (('that', 'ADP'), ('that', 'DET'))], [('the', 'DET'), (('discretion', 'ADP'), ('discretion', 'NOUN'))], [('to', 'PRT'), (('select', 'ADP'), ('select', 'VERB'))], [(',', '.'), (('net', 'ADJ'), ('net', 'NOUN'))], [('$', '.'), (('306', 'ADP'), ('306', 'NUM'))], [('an', 'DET'), (('unrestricted', 'ADP'), ('unrestricted', 'ADJ'))], [('wage', 'NOUN'), (('that', 'ADP'), ('that', 'DET'))], [('paid', 'VERB'), (('*-165', 'ADP'), ('*-165', 'X'))], [(\"'s\", 'PRT'), (('firm', 'NOUN'), ('firm', 'ADJ'))], [('steady', 'ADJ'), (('opening', 'VERB'), ('opening', 'NOUN'))], [('also', 'ADV'), (('tempted', 'ADP'), ('tempted', 'VERB'))], [('finished', 'VERB'), (('less', 'ADV'), ('less', 'ADJ'))], [('point', 'NOUN'), (('higher', 'ADJ'), ('higher', 'ADV'))], [('moderate', 'ADJ'), (('trading', 'NOUN'), ('trading', 'VERB'))], [('early', 'ADJ'), (('1980s', 'NUM'), ('1980s', 'NOUN'))], [('its', 'PRON'), (('glory', 'ADP'), ('glory', 'NOUN'))], [('had', 'VERB'), (('faded', 'ADP'), ('faded', 'VERB'))], [('the', 'DET'), (('yellow', 'ADP'), ('yellow', 'ADJ'))], [('yellow', 'ADJ'), (('bricks', 'ADP'), ('bricks', 'NOUN'))], [('broad', 'ADJ'), (('facade', 'ADP'), ('facade', 'NOUN'))], [('The', 'DET'), (('record', 'NOUN'), ('record', 'ADJ'))], [('$', '.'), (('550,000', 'ADP'), ('550,000', 'NUM'))], [('.', '.'), (('Four', 'ADP'), ('Four', 'NUM'))], [('recently', 'ADV'), (('diagnosed', 'ADP'), ('diagnosed', 'VERB'))], [('by', 'ADP'), (('half', 'DET'), ('half', 'NOUN'))], [('a', 'DET'), (('27-year', 'ADP'), ('27-year', 'ADJ'))], [('the', 'DET'), (('information-services', 'ADP'), ('information-services', 'NOUN'))], [(',', '.'), (('Southeast', 'NOUN'), ('Southeast', 'ADJ'))], [('By', 'ADP'), (('1997', 'ADP'), ('1997', 'NUM'))], [('remaining', 'VERB'), (('uses', 'VERB'), ('uses', 'NOUN'))], [('of', 'ADP'), (('cancer-causing', 'ADP'), ('cancer-causing', 'ADJ'))], [('be', 'VERB'), (('outlawed', 'ADP'), ('outlawed', 'VERB'))], [('departure', 'NOUN'), (('stemmed', 'ADP'), ('stemmed', 'VERB'))], [(\"'s\", 'PRT'), (('post', 'VERB'), ('post', 'NOUN'))], [('board', 'NOUN'), (('directorship', 'ADP'), ('directorship', 'NOUN'))], [('a', 'DET'), (('little', 'ADJ'), ('little', 'ADV'))], [('little', 'ADV'), (('more', 'ADJ'), ('more', 'ADV'))], [('precisely', 'ADV'), (('what', 'PRON'), ('what', 'DET'))], [('ads', 'NOUN'), (('that', 'ADP'), ('that', 'DET'))], [('stocks', 'NOUN'), (('that', 'ADP'), ('that', 'DET'))], [('that', 'DET'), (('*T*-117', 'ADP'), ('*T*-117', 'X'))], [('to', 'PRT'), (('uptick', 'NOUN'), ('uptick', 'VERB'))], [(',', '.'), (('head', 'NOUN'), ('head', 'ADJ'))], [('Israel', 'NOUN'), (('Silverman', 'ADP'), ('Silverman', 'NOUN'))], [('an', 'DET'), (('insurance-company', 'ADP'), ('insurance-company', 'NOUN'))], [(',', '.'), (('comments', 'NOUN'), ('comments', 'VERB'))], [('``', '.'), (('increases', 'NOUN'), ('increases', 'VERB'))], [('in', 'ADP'), (('jeopardy', 'ADP'), ('jeopardy', 'NOUN'))], [(\"''\", '.'), (('NEW', 'ADP'), ('NEW', 'NOUN'))], [('NEW', 'NOUN'), (('ACCOUNT', 'ADP'), ('ACCOUNT', 'NOUN'))], [('$', '.'), (('14.75', 'ADP'), ('14.75', 'NUM'))], [('Lord', 'NOUN'), (('Chilver', 'ADP'), ('Chilver', 'NOUN'))], [(',', '.'), (('63-year-old', 'ADP'), ('63-year-old', 'ADJ'))], [('of', 'ADP'), (('English', 'ADJ'), ('English', 'NOUN'))], [('China', 'NOUN'), (('Clays', 'ADP'), ('Clays', 'NOUN'))], [('.', '.'), (('CoreStates', 'ADP'), ('CoreStates', 'NOUN'))], [('named', 'VERB'), (('Earle', 'ADP'), ('Earle', 'NOUN'))], [('Earle', 'NOUN'), (('Palmer', 'ADP'), ('Palmer', 'NOUN'))], [('&', 'CONJ'), (('Spiro', 'ADP'), ('Spiro', 'NOUN'))], [('*U*', 'X'), (('account', 'VERB'), ('account', 'NOUN'))], [('Once', 'ADV'), (('there', 'DET'), ('there', 'ADV'))], [(',', '.'), (('what', 'PRON'), ('what', 'DET'))], [('of', 'ADP'), (('escape', 'ADP'), ('escape', 'NOUN'))], [('*T*-1', 'X'), (('open', 'VERB'), ('open', 'ADJ'))], [('than', 'ADP'), (('drink', 'VERB'), ('drink', 'NOUN'))], [('or', 'CONJ'), (('insanity', 'ADP'), ('insanity', 'NOUN'))], [('the', 'DET'), (('heirs', 'ADP'), ('heirs', 'NOUN'))], [('.', '.'), (('Nylev', 'ADP'), ('Nylev', 'NOUN'))], [('Nylev', 'NOUN'), (('Municipal', 'ADJ'), ('Municipal', 'NOUN'))], [('push', 'VERB'), (('up', 'ADV'), ('up', 'ADP'))], [('from', 'ADP'), (('malnutrition', 'ADP'), ('malnutrition', 'NOUN'))], [(',', '.'), (('chest', 'ADP'), ('chest', 'NOUN'))], [(',', '.'), (('cardiovascular', 'ADP'), ('cardiovascular', 'ADJ'))], [(',', '.'), (('infectious', 'ADP'), ('infectious', 'ADJ'))], [('the', 'DET'), (('aftereffects', 'ADP'), ('aftereffects', 'NOUN'))], [('of', 'ADP'), (('assaults', 'ADP'), ('assaults', 'NOUN'))], [('who', 'PRON'), (('*T*-91', 'ADP'), ('*T*-91', 'X'))], [('a', 'DET'), (('grandstander', 'ADP'), ('grandstander', 'NOUN'))], [('U.K.', 'NOUN'), (('luxury', 'ADP'), ('luxury', 'NOUN'))], [('at', 'ADP'), (('879', 'ADP'), ('879', 'NUM'))], [('$', '.'), (('13.90', 'ADP'), ('13.90', 'NUM'))], [('no', 'DET'), (('guarantee', 'VERB'), ('guarantee', 'NOUN'))], [('chief', 'NOUN'), (('operating', 'NOUN'), ('operating', 'VERB'))], [('and', 'CONJ'), (('shopped', 'ADP'), ('shopped', 'VERB'))], [('bank', 'NOUN'), (('that', 'ADP'), ('that', 'DET'))], [('nearly', 'ADV'), (('half', 'DET'), ('half', 'NOUN'))], [('consumers', 'NOUN'), (('espouse', 'ADP'), ('espouse', 'VERB'))], [('with', 'ADP'), (('about', 'ADP'), ('about', 'ADV'))], [('about', 'ADV'), (('one-third', 'NOUN'), ('one-third', 'ADJ'))], [('its', 'PRON'), (('finance', 'VERB'), ('finance', 'NOUN'))], [('of', 'ADP'), (('deteriorating', 'ADP'), ('deteriorating', 'VERB'))], [('Donald', 'NOUN'), (('Anderson', 'ADP'), ('Anderson', 'NOUN'))], [('a', 'DET'), (('59-year-old', 'ADP'), ('59-year-old', 'ADJ'))], [('``', '.'), (('fluctuations', 'ADP'), ('fluctuations', 'NOUN'))], [('the', 'DET'), (('heebie-jeebies', 'ADP'), ('heebie-jeebies', 'NOUN'))], [('see', 'VERB'), (('much', 'ADV'), ('much', 'ADJ'))], [('much', 'ADJ'), (('point', 'VERB'), ('point', 'NOUN'))], [('*', 'X'), (('outlawing', 'ADP'), ('outlawing', 'VERB'))], [('the', 'DET'), (('audit', 'VERB'), ('audit', 'NOUN'))], [(\"'s\", 'PRT'), (('stand', 'VERB'), ('stand', 'NOUN'))], [('to', 'PRT'), (('display', 'ADP'), ('display', 'VERB'))], [('overhead', 'ADJ'), (('projector', 'ADP'), ('projector', 'NOUN'))], [('and', 'CONJ'), (('underline', 'ADP'), ('underline', 'VERB'))], [(',', '.'), (('Old-House', 'ADP'), ('Old-House', 'NOUN'))], [('her', 'PRON'), (('publishing', 'VERB'), ('publishing', 'NOUN'))], [('all', 'DET'), (('126,000', 'ADP'), ('126,000', 'NUM'))], [('are', 'VERB'), (('all', 'DET'), ('all', 'ADV'))], [('a', 'DET'), (('following', 'VERB'), ('following', 'NOUN'))], [('two', 'NUM'), (('round-trip', 'ADP'), ('round-trip', 'ADJ'))], [('on', 'ADP'), (('Trans', 'ADP'), ('Trans', 'NOUN'))], [('Riviera', 'NOUN'), (('luxury', 'ADP'), ('luxury', 'NOUN'))], [('prices', 'NOUN'), (('soaring', 'ADP'), ('soaring', 'VERB'))], [('the', 'DET'), (('reclaimed', 'ADP'), ('reclaimed', 'VERB'))], [(\"'s\", 'PRT'), (('240-page', 'ADP'), ('240-page', 'ADJ'))], [('the', 'DET'), (('Iran-Contra', 'ADP'), ('Iran-Contra', 'NOUN'))], [('$', '.'), (('221.4', 'ADP'), ('221.4', 'NUM'))], [('.', '.'), (('Next', 'ADP'), ('Next', 'ADJ'))], [('the', 'DET'), (('Philippine', 'ADP'), ('Philippine', 'NOUN'))], [(\"'s\", 'PRT'), (('launch', 'VERB'), ('launch', 'NOUN'))], [('be', 'VERB'), (('capped', 'ADJ'), ('capped', 'VERB'))], [('by', 'ADP'), (('Philippine', 'ADP'), ('Philippine', 'ADJ'))], [('President', 'NOUN'), (('Corazon', 'ADP'), ('Corazon', 'NOUN'))], [('Corazon', 'NOUN'), (('Aquino', 'ADP'), ('Aquino', 'NOUN'))], [('--', '.'), (('the', 'DET'), ('the', 'NOUN'))], [('until', 'ADP'), (('midyear', 'ADP'), ('midyear', 'NOUN'))], [(\"''\", '.'), (('Spending', 'ADP'), ('Spending', 'NOUN'))], [(',', '.'), (('nonresidential', 'ADP'), ('nonresidential', 'ADJ'))], [('was', 'VERB'), (('off', 'PRT'), ('off', 'ADJ'))], [('$', '.'), (('99.1', 'ADP'), ('99.1', 'NUM'))], [('market', 'NOUN'), (('awaits', 'ADP'), ('awaits', 'VERB'))], [('will', 'VERB'), (('point', 'NOUN'), ('point', 'VERB'))], [('.', '.'), (('Aerospace', 'ADP'), ('Aerospace', 'NOUN'))], [('earnings', 'NOUN'), (('sagged', 'ADP'), ('sagged', 'VERB'))], [('lower', 'ADJ'), (('B-1B', 'ADJ'), ('B-1B', 'NOUN'))], [('the', 'DET'), (('bombers', 'ADP'), ('bombers', 'NOUN'))], [('rolled', 'VERB'), (('out', 'PRT'), ('out', 'ADP'))], [('first', 'ADJ'), (('half', 'NOUN'), ('half', 'DET'))], [('to', 'PRT'), (('88.32', 'ADP'), ('88.32', 'NUM'))], [('$', '.'), (('618.1', 'ADP'), ('618.1', 'NUM'))], [('from', 'ADP'), (('77.6', 'ADP'), ('77.6', 'NUM'))], [('year', 'NOUN'), (('earlier', 'ADV'), ('earlier', 'ADJ'))], [('$', '.'), (('12.52', 'ADP'), ('12.52', 'NUM'))], [('$', '.'), (('11.95', 'ADP'), ('11.95', 'NUM'))], [('the', 'DET'), (('shipboard', 'ADP'), ('shipboard', 'NOUN'))], [('meetings', 'NOUN'), (('next', 'ADP'), ('next', 'ADJ'))], [('and', 'CONJ'), (('Soviet', 'ADJ'), ('Soviet', 'NOUN'))], [('waters', 'NOUN'), (('off', 'PRT'), ('off', 'ADP'))], [('off', 'ADP'), (('Malta', 'ADP'), ('Malta', 'NOUN'))], [('.', '.'), (('NCNB', 'ADP'), ('NCNB', 'NOUN'))], [('Financial', 'NOUN'), (('Connections', 'ADP'), ('Connections', 'NOUN'))], [('young', 'ADJ'), (('adults', 'ADP'), ('adults', 'NOUN'))], [('so', 'ADV'), (('broadly', 'ADP'), ('broadly', 'ADV'))], [('broadly', 'ADV'), (('construed', 'ADP'), ('construed', 'VERB'))], [('would', 'VERB'), (('emasculate', 'ADP'), ('emasculate', 'VERB'))], [('and', 'CONJ'), (('swallow', 'ADP'), ('swallow', 'VERB'))], [('``', '.'), (('contrary', 'NOUN'), ('contrary', 'ADJ'))], [('--', '.'), (('the', 'DET'), ('the', 'NUM'))]]\n"
     ]
    }
   ],
   "source": [
    "print(vanilla_viterbi_validation_results[1])"
   ]
  },
  {
   "cell_type": "markdown",
   "metadata": {},
   "source": [
    "#### Modification technique 1"
   ]
  },
  {
   "cell_type": "markdown",
   "metadata": {},
   "source": [
    "Creating a function that implements a smoothening transform that prevent the state probability from becoming zero when the emission probability is zero"
   ]
  },
  {
   "cell_type": "code",
   "execution_count": 16,
   "metadata": {},
   "outputs": [],
   "source": [
    "T = list(set([pair[1] for pair in train_tagged_words]))\n",
    "\n",
    "def modified_viterbi(words, train_bag = train_tagged_words):\n",
    "    state = []\n",
    "    \n",
    "    epsilon = 0.000001\n",
    "    for key, word in enumerate(words):\n",
    "        #initialise list of probability column for a given observation\n",
    "        p = [] \n",
    "        for tag in T:\n",
    "            if key == 0:\n",
    "                transition_p = tags_df.loc['.', tag]\n",
    "            else:\n",
    "                transition_p = tags_df.loc[state[-1], tag]\n",
    "                \n",
    "            # compute emission and state probabilities\n",
    "            result = word_given_tag(word, tag)\n",
    "            emission_p = result[0]/result[1]\n",
    "            state_probability = (emission_p + epsilon) * transition_p    \n",
    "            p.append(state_probability)\n",
    "            \n",
    "        pmax = max(p)\n",
    "        \n",
    "        if pmax!=0:\n",
    "            # getting state for which probability is maximum\n",
    "            state_max = T[p.index(pmax)]\n",
    "            \n",
    "        state.append(state_max)\n",
    "    return list(zip(words, state))"
   ]
  },
  {
   "cell_type": "markdown",
   "metadata": {},
   "source": [
    "#### Evaluating tagging accuracy"
   ]
  },
  {
   "cell_type": "code",
   "execution_count": 17,
   "metadata": {
    "scrolled": false
   },
   "outputs": [
    {
     "name": "stdout",
     "output_type": "stream",
     "text": [
      "Time taken: 287.11 s\n",
      "Accuracy: 93.36%\n",
      "Number of incorrectly tagged words: 314\n"
     ]
    }
   ],
   "source": [
    "modified_viterbi_validation_results = run_viterbi(validation_set, modified_viterbi)"
   ]
  },
  {
   "cell_type": "markdown",
   "metadata": {},
   "source": [
    "### Running modified Viterbi1 on the test data"
   ]
  },
  {
   "cell_type": "code",
   "execution_count": 18,
   "metadata": {
    "scrolled": false
   },
   "outputs": [
    {
     "name": "stdout",
     "output_type": "stream",
     "text": [
      "[('Android', 'NOUN'), ('is', 'VERB'), ('a', 'DET'), ('mobile', 'ADJ'), ('operating', 'NOUN'), ('system', 'NOUN'), ('developed', 'VERB'), ('by', 'ADP'), ('Google', 'DET'), ('.', '.'), ('Android', 'NOUN'), ('has', 'VERB'), ('been', 'VERB'), ('the', 'DET'), ('best-selling', 'ADJ'), ('OS', 'NOUN'), ('worldwide', 'NOUN'), ('on', 'ADP'), ('smartphones', 'DET'), ('since', 'ADP'), ('2011', 'DET'), ('and', 'CONJ'), ('on', 'ADP'), ('tablets', 'NOUN'), ('since', 'ADP'), ('2013', 'DET'), ('.', '.'), ('Google', 'NOUN'), ('and', 'CONJ'), ('Twitter', 'NOUN'), ('made', 'VERB'), ('a', 'DET'), ('deal', 'NOUN'), ('in', 'ADP'), ('2015', 'DET'), ('that', 'ADP'), ('gave', 'VERB'), ('Google', 'X'), ('access', 'NOUN'), ('to', 'PRT'), ('Twitter', 'VERB'), (\"'s\", 'PRT'), ('firehose', 'VERB'), ('.', '.'), ('Twitter', 'NOUN'), ('is', 'VERB'), ('an', 'DET'), ('online', 'NOUN'), ('news', 'NOUN'), ('and', 'CONJ'), ('social', 'ADJ'), ('networking', 'NOUN'), ('service', 'NOUN'), ('on', 'ADP'), ('which', 'DET'), ('users', 'NOUN'), ('post', 'NOUN'), ('and', 'CONJ'), ('interact', 'NOUN'), ('with', 'ADP'), ('messages', 'DET'), ('known', 'VERB'), ('as', 'ADP'), ('tweets', 'DET'), ('.', '.'), ('Before', 'ADP'), ('entering', 'VERB'), ('politics', 'NOUN'), (',', '.'), ('Donald', 'NOUN'), ('Trump', 'NOUN'), ('was', 'VERB'), ('a', 'DET'), ('domineering', 'NOUN'), ('businessman', 'NOUN'), ('and', 'CONJ'), ('a', 'DET'), ('television', 'NOUN'), ('personality', 'NOUN'), ('.', '.'), ('The', 'DET'), ('2018', 'NOUN'), ('FIFA', 'NOUN'), ('World', 'NOUN'), ('Cup', 'NOUN'), ('is', 'VERB'), ('the', 'DET'), ('21st', 'NOUN'), ('FIFA', 'NOUN'), ('World', 'NOUN'), ('Cup', 'NOUN'), (',', '.'), ('an', 'DET'), ('international', 'ADJ'), ('football', 'NOUN'), ('tournament', 'NOUN'), ('contested', 'NOUN'), ('once', 'ADV'), ('every', 'DET'), ('four', 'NUM'), ('years', 'NOUN'), ('.', '.'), ('This', 'DET'), ('is', 'VERB'), ('the', 'DET'), ('first', 'ADJ'), ('World', 'NOUN'), ('Cup', 'NOUN'), ('to', 'PRT'), ('be', 'VERB'), ('held', 'VERB'), ('in', 'ADP'), ('Eastern', 'NOUN'), ('Europe', 'NOUN'), ('and', 'CONJ'), ('the', 'DET'), ('11th', 'ADJ'), ('time', 'NOUN'), ('that', 'ADP'), ('it', 'PRON'), ('has', 'VERB'), ('been', 'VERB'), ('held', 'VERB'), ('in', 'ADP'), ('Europe', 'NOUN'), ('.', '.'), ('Show', 'NOUN'), ('me', 'PRON'), ('the', 'DET'), ('cheapest', 'ADJ'), ('round', 'NOUN'), ('trips', 'NOUN'), ('from', 'ADP'), ('Dallas', 'NOUN'), ('to', 'PRT'), ('Atlanta', 'NOUN'), ('I', 'PRON'), ('would', 'VERB'), ('like', 'ADP'), ('to', 'PRT'), ('see', 'VERB'), ('flights', 'NOUN'), ('from', 'ADP'), ('Denver', 'NOUN'), ('to', 'PRT'), ('Philadelphia', 'NOUN'), ('.', '.'), ('Show', 'NOUN'), ('me', 'PRON'), ('the', 'DET'), ('price', 'NOUN'), ('of', 'ADP'), ('the', 'DET'), ('flights', 'NOUN'), ('leaving', 'VERB'), ('Atlanta', 'NOUN'), ('at', 'ADP'), ('about', 'ADP'), ('3', 'NUM'), ('in', 'ADP'), ('the', 'DET'), ('afternoon', 'NOUN'), ('and', 'CONJ'), ('arriving', 'NOUN'), ('in', 'ADP'), ('San', 'NOUN'), ('Francisco', 'NOUN'), ('.', '.'), ('NASA', 'NOUN'), ('invited', 'NOUN'), ('social', 'ADJ'), ('media', 'NOUN'), ('users', 'NOUN'), ('to', 'PRT'), ('experience', 'NOUN'), ('the', 'DET'), ('launch', 'NOUN'), ('of', 'ADP'), ('ICESAT-2', 'DET'), ('Satellite', 'NOUN'), ('.', '.')]\n"
     ]
    }
   ],
   "source": [
    "print(modified_viterbi(test_list))"
   ]
  },
  {
   "cell_type": "markdown",
   "metadata": {},
   "source": [
    "#### Modification technique 2"
   ]
  },
  {
   "cell_type": "markdown",
   "metadata": {},
   "source": [
    "Unigram tagger with backoff regular expression tagger"
   ]
  },
  {
   "cell_type": "code",
   "execution_count": 19,
   "metadata": {},
   "outputs": [],
   "source": [
    "def get_custom_regexp_tagger():\n",
    "    patterns = [\n",
    "        (r'^-?[0-9]+(.[0-9]+)?$', 'NUM'), # numbers\n",
    "        (r'.*', 'NOUN'),                  # nouns\n",
    "        (r'.*\\'s$', 'NOUN'),              # possessive nouns\n",
    "        (r'.*s$', 'NOUN'),                # plural nouns\n",
    "        (r'.*(ing|ed|es)$', 'VERB'),      # verbs\n",
    "        (r'\\*T?\\*?-[0-9]+$', 'X')         # miscellaneous words etc.\n",
    "    ]\n",
    "    return nltk.RegexpTagger(patterns)"
   ]
  },
  {
   "cell_type": "code",
   "execution_count": 20,
   "metadata": {
    "scrolled": true
   },
   "outputs": [
    {
     "name": "stdout",
     "output_type": "stream",
     "text": [
      "Accuracy: 93.99%\n"
     ]
    }
   ],
   "source": [
    "unigram_regex_backoff_tagger = nltk.UnigramTagger(train_set, backoff = get_custom_regexp_tagger())\n",
    "unigram_regex_backoff_tagger_accuracy = unigram_regex_backoff_tagger.evaluate(validation_set)\n",
    "print(f\"Accuracy: {round(unigram_regex_backoff_tagger_accuracy*100, 2)}%\")"
   ]
  },
  {
   "cell_type": "code",
   "execution_count": 21,
   "metadata": {},
   "outputs": [],
   "source": [
    "T = list(set([pair[1] for pair in train_tagged_words]))\n",
    "\n",
    "def unigram_regex_viterbi(words, lexicon_tagger=unigram_regex_backoff_tagger, train_bag = train_tagged_words):\n",
    "    state = []\n",
    "    \n",
    "    for key, word in enumerate(words):\n",
    "        #initialise list of probability column for a given observation\n",
    "        p = [] \n",
    "        for tag in T:\n",
    "            if key == 0:\n",
    "                transition_p = tags_df.loc['.', tag]\n",
    "            else:\n",
    "                transition_p = tags_df.loc[state[-1], tag]\n",
    "                \n",
    "            # compute emission and state probabilities\n",
    "            result = word_given_tag(word, tag)\n",
    "            emission_p = result[0]/result[1]\n",
    "            state_probability = emission_p * transition_p    \n",
    "            p.append(state_probability)\n",
    "            \n",
    "        pmax = max(p)\n",
    "        \n",
    "        if pmax!=0:\n",
    "            # getting state for which probability is maximum\n",
    "            state_max = T[p.index(pmax)]\n",
    "        else:\n",
    "            state_max = lexicon_tagger.tag([word])[0][1]\n",
    "            \n",
    "        state.append(state_max)\n",
    "    return list(zip(words, state))"
   ]
  },
  {
   "cell_type": "code",
   "execution_count": 22,
   "metadata": {},
   "outputs": [
    {
     "name": "stdout",
     "output_type": "stream",
     "text": [
      "Time taken: 290.77 s\n",
      "Accuracy: 94.14%\n",
      "Number of incorrectly tagged words: 277\n"
     ]
    }
   ],
   "source": [
    "unigram_regex_viterbi_validation_results = run_viterbi(validation_set, unigram_regex_viterbi)"
   ]
  },
  {
   "cell_type": "markdown",
   "metadata": {},
   "source": [
    "### Running unigram tagger with backoff regular expression Viterbi on the test data"
   ]
  },
  {
   "cell_type": "code",
   "execution_count": 23,
   "metadata": {},
   "outputs": [
    {
     "name": "stdout",
     "output_type": "stream",
     "text": [
      "[('Android', 'NOUN'), ('is', 'VERB'), ('a', 'DET'), ('mobile', 'ADJ'), ('operating', 'NOUN'), ('system', 'NOUN'), ('developed', 'VERB'), ('by', 'ADP'), ('Google', 'NOUN'), ('.', '.'), ('Android', 'NOUN'), ('has', 'VERB'), ('been', 'VERB'), ('the', 'DET'), ('best-selling', 'ADJ'), ('OS', 'NOUN'), ('worldwide', 'NOUN'), ('on', 'ADP'), ('smartphones', 'NOUN'), ('since', 'ADP'), ('2011', 'NUM'), ('and', 'CONJ'), ('on', 'ADP'), ('tablets', 'NOUN'), ('since', 'ADP'), ('2013', 'NUM'), ('.', '.'), ('Google', 'NOUN'), ('and', 'CONJ'), ('Twitter', 'NOUN'), ('made', 'VERB'), ('a', 'DET'), ('deal', 'NOUN'), ('in', 'ADP'), ('2015', 'NUM'), ('that', 'ADP'), ('gave', 'VERB'), ('Google', 'NOUN'), ('access', 'NOUN'), ('to', 'PRT'), ('Twitter', 'NOUN'), (\"'s\", 'PRT'), ('firehose', 'NOUN'), ('.', '.'), ('Twitter', 'NOUN'), ('is', 'VERB'), ('an', 'DET'), ('online', 'NOUN'), ('news', 'NOUN'), ('and', 'CONJ'), ('social', 'ADJ'), ('networking', 'NOUN'), ('service', 'NOUN'), ('on', 'ADP'), ('which', 'DET'), ('users', 'NOUN'), ('post', 'NOUN'), ('and', 'CONJ'), ('interact', 'NOUN'), ('with', 'ADP'), ('messages', 'NOUN'), ('known', 'VERB'), ('as', 'ADP'), ('tweets', 'NOUN'), ('.', '.'), ('Before', 'ADP'), ('entering', 'VERB'), ('politics', 'NOUN'), (',', '.'), ('Donald', 'NOUN'), ('Trump', 'NOUN'), ('was', 'VERB'), ('a', 'DET'), ('domineering', 'NOUN'), ('businessman', 'NOUN'), ('and', 'CONJ'), ('a', 'DET'), ('television', 'NOUN'), ('personality', 'NOUN'), ('.', '.'), ('The', 'DET'), ('2018', 'NUM'), ('FIFA', 'NOUN'), ('World', 'NOUN'), ('Cup', 'NOUN'), ('is', 'VERB'), ('the', 'DET'), ('21st', 'NOUN'), ('FIFA', 'NOUN'), ('World', 'NOUN'), ('Cup', 'NOUN'), (',', '.'), ('an', 'DET'), ('international', 'ADJ'), ('football', 'NOUN'), ('tournament', 'NOUN'), ('contested', 'NOUN'), ('once', 'ADV'), ('every', 'DET'), ('four', 'NUM'), ('years', 'NOUN'), ('.', '.'), ('This', 'DET'), ('is', 'VERB'), ('the', 'DET'), ('first', 'ADJ'), ('World', 'NOUN'), ('Cup', 'NOUN'), ('to', 'PRT'), ('be', 'VERB'), ('held', 'VERB'), ('in', 'ADP'), ('Eastern', 'NOUN'), ('Europe', 'NOUN'), ('and', 'CONJ'), ('the', 'DET'), ('11th', 'ADJ'), ('time', 'NOUN'), ('that', 'ADP'), ('it', 'PRON'), ('has', 'VERB'), ('been', 'VERB'), ('held', 'VERB'), ('in', 'ADP'), ('Europe', 'NOUN'), ('.', '.'), ('Show', 'NOUN'), ('me', 'PRON'), ('the', 'DET'), ('cheapest', 'ADJ'), ('round', 'NOUN'), ('trips', 'NOUN'), ('from', 'ADP'), ('Dallas', 'NOUN'), ('to', 'PRT'), ('Atlanta', 'NOUN'), ('I', 'PRON'), ('would', 'VERB'), ('like', 'ADP'), ('to', 'PRT'), ('see', 'VERB'), ('flights', 'NOUN'), ('from', 'ADP'), ('Denver', 'NOUN'), ('to', 'PRT'), ('Philadelphia', 'NOUN'), ('.', '.'), ('Show', 'NOUN'), ('me', 'PRON'), ('the', 'DET'), ('price', 'NOUN'), ('of', 'ADP'), ('the', 'DET'), ('flights', 'NOUN'), ('leaving', 'VERB'), ('Atlanta', 'NOUN'), ('at', 'ADP'), ('about', 'ADP'), ('3', 'NUM'), ('in', 'ADP'), ('the', 'DET'), ('afternoon', 'NOUN'), ('and', 'CONJ'), ('arriving', 'NOUN'), ('in', 'ADP'), ('San', 'NOUN'), ('Francisco', 'NOUN'), ('.', '.'), ('NASA', 'NOUN'), ('invited', 'NOUN'), ('social', 'ADJ'), ('media', 'NOUN'), ('users', 'NOUN'), ('to', 'PRT'), ('experience', 'NOUN'), ('the', 'DET'), ('launch', 'NOUN'), ('of', 'ADP'), ('ICESAT-2', 'NOUN'), ('Satellite', 'NOUN'), ('.', '.')]\n"
     ]
    }
   ],
   "source": [
    "print(unigram_regex_viterbi(test_list))"
   ]
  },
  {
   "cell_type": "markdown",
   "metadata": {},
   "source": [
    "### Compare the tagging accuracies of the modifications with the vanilla Viterbi algorithm"
   ]
  },
  {
   "cell_type": "code",
   "execution_count": 24,
   "metadata": {},
   "outputs": [],
   "source": [
    "accuracy = pd.DataFrame(data = {\n",
    "    'Method': [\n",
    "        'Vanilla Viterbi',\n",
    "        'Viterbi with smoothening',\n",
    "        'Viterbi with Lexicon Tagger', \n",
    "    ],\n",
    "    'Accuracy': [\n",
    "         vanilla_viterbi_validation_results[0], \n",
    "         modified_viterbi_validation_results[0],\n",
    "         unigram_regex_viterbi_validation_results[0]\n",
    "    ]\n",
    "})"
   ]
  },
  {
   "cell_type": "code",
   "execution_count": 25,
   "metadata": {},
   "outputs": [
    {
     "data": {
      "image/png": "[encoded data removed]",
      "text/plain": [
       "<Figure size 360x720 with 1 Axes>"
      ]
     },
     "metadata": {
      "needs_background": "light"
     },
     "output_type": "display_data"
    }
   ],
   "source": [
    "import matplotlib.pyplot as plt\n",
    "import seaborn as sns\n",
    "\n",
    "plt.figure(figsize=(5, 10))\n",
    "\n",
    "sns.lineplot(x='Method', y='Accuracy', data=accuracy)\n",
    "plt.show()"
   ]
  },
  {
   "cell_type": "code",
   "execution_count": 26,
   "metadata": {},
   "outputs": [
    {
     "data": {
      "text/html": [
       "<div>\n",
       "<style scoped>\n",
       "    .dataframe tbody tr th:only-of-type {\n",
       "        vertical-align: middle;\n",
       "    }\n",
       "\n",
       "    .dataframe tbody tr th {\n",
       "        vertical-align: top;\n",
       "    }\n",
       "\n",
       "    .dataframe thead th {\n",
       "        text-align: right;\n",
       "    }\n",
       "</style>\n",
       "<table border=\"1\" class=\"dataframe\">\n",
       "  <thead>\n",
       "    <tr style=\"text-align: right;\">\n",
       "      <th></th>\n",
       "      <th>Method</th>\n",
       "      <th>Accuracy</th>\n",
       "    </tr>\n",
       "  </thead>\n",
       "  <tbody>\n",
       "    <tr>\n",
       "      <th>0</th>\n",
       "      <td>Vanilla Viterbi</td>\n",
       "      <td>90.42</td>\n",
       "    </tr>\n",
       "    <tr>\n",
       "      <th>1</th>\n",
       "      <td>Viterbi with smoothening</td>\n",
       "      <td>93.36</td>\n",
       "    </tr>\n",
       "    <tr>\n",
       "      <th>2</th>\n",
       "      <td>Viterbi with Lexicon Tagger</td>\n",
       "      <td>94.14</td>\n",
       "    </tr>\n",
       "  </tbody>\n",
       "</table>\n",
       "</div>"
      ],
      "text/plain": [
       "                        Method  Accuracy\n",
       "0              Vanilla Viterbi     90.42\n",
       "1     Viterbi with smoothening     93.36\n",
       "2  Viterbi with Lexicon Tagger     94.14"
      ]
     },
     "execution_count": 26,
     "metadata": {},
     "output_type": "execute_result"
    }
   ],
   "source": [
    "accuracy"
   ]
  },
  {
   "cell_type": "markdown",
   "metadata": {},
   "source": [
    "### List down cases which were incorrectly tagged by original POS tagger and got corrected by your modifications"
   ]
  },
  {
   "cell_type": "code",
   "execution_count": 27,
   "metadata": {},
   "outputs": [],
   "source": [
    "def compare_algorithms(sentence):\n",
    "    words = word_tokenize(sentence)\n",
    "    \n",
    "    print(\"Vanilla Viterbi\")\n",
    "    print(vanilla_viterbi(words))\n",
    "    print()\n",
    "    print(\"Viterbi with smoothening\")\n",
    "    print(modified_viterbi(words))\n",
    "    print()\n",
    "    print(\"Viterbi with Lexicon Tagger\")\n",
    "    print(unigram_regex_viterbi(words))"
   ]
  },
  {
   "cell_type": "code",
   "execution_count": 28,
   "metadata": {
    "scrolled": true
   },
   "outputs": [
    {
     "name": "stdout",
     "output_type": "stream",
     "text": [
      "Vanilla Viterbi\n",
      "[('Android', 'ADP'), ('is', 'VERB'), ('a', 'DET'), ('mobile', 'ADJ'), ('operating', 'NOUN'), ('system', 'NOUN'), ('developed', 'VERB'), ('by', 'ADP'), ('Google', 'ADP'), ('.', '.')]\n",
      "\n",
      "Viterbi with smoothening\n",
      "[('Android', 'NOUN'), ('is', 'VERB'), ('a', 'DET'), ('mobile', 'ADJ'), ('operating', 'NOUN'), ('system', 'NOUN'), ('developed', 'VERB'), ('by', 'ADP'), ('Google', 'DET'), ('.', '.')]\n",
      "\n",
      "Viterbi with Lexicon Tagger\n",
      "[('Android', 'NOUN'), ('is', 'VERB'), ('a', 'DET'), ('mobile', 'ADJ'), ('operating', 'NOUN'), ('system', 'NOUN'), ('developed', 'VERB'), ('by', 'ADP'), ('Google', 'NOUN'), ('.', '.')]\n"
     ]
    }
   ],
   "source": [
    "compare_algorithms(test_sentence_list[0])"
   ]
  },
  {
   "cell_type": "markdown",
   "metadata": {},
   "source": [
    "**Android** has been correctly tagged as a noun using both Viterbi with smoothening and Viterbi with Lexicon Tagger "
   ]
  },
  {
   "cell_type": "markdown",
   "metadata": {},
   "source": [
    "**Google** has been correctly tagged as a noun using Viterbi with Lexicon Tagger "
   ]
  },
  {
   "cell_type": "code",
   "execution_count": 29,
   "metadata": {
    "scrolled": true
   },
   "outputs": [
    {
     "name": "stdout",
     "output_type": "stream",
     "text": [
      "Vanilla Viterbi\n",
      "[('Android', 'ADP'), ('has', 'VERB'), ('been', 'VERB'), ('the', 'DET'), ('best-selling', 'ADJ'), ('OS', 'ADP'), ('worldwide', 'ADP'), ('on', 'ADP'), ('smartphones', 'ADP'), ('since', 'ADP'), ('2011', 'ADP'), ('and', 'CONJ'), ('on', 'ADP'), ('tablets', 'NOUN'), ('since', 'ADP'), ('2013', 'ADP'), ('.', '.')]\n",
      "\n",
      "Viterbi with smoothening\n",
      "[('Android', 'NOUN'), ('has', 'VERB'), ('been', 'VERB'), ('the', 'DET'), ('best-selling', 'ADJ'), ('OS', 'NOUN'), ('worldwide', 'NOUN'), ('on', 'ADP'), ('smartphones', 'DET'), ('since', 'ADP'), ('2011', 'DET'), ('and', 'CONJ'), ('on', 'ADP'), ('tablets', 'NOUN'), ('since', 'ADP'), ('2013', 'DET'), ('.', '.')]\n",
      "\n",
      "Viterbi with Lexicon Tagger\n",
      "[('Android', 'NOUN'), ('has', 'VERB'), ('been', 'VERB'), ('the', 'DET'), ('best-selling', 'ADJ'), ('OS', 'NOUN'), ('worldwide', 'NOUN'), ('on', 'ADP'), ('smartphones', 'NOUN'), ('since', 'ADP'), ('2011', 'NUM'), ('and', 'CONJ'), ('on', 'ADP'), ('tablets', 'NOUN'), ('since', 'ADP'), ('2013', 'NUM'), ('.', '.')]\n"
     ]
    }
   ],
   "source": [
    "compare_algorithms(test_sentence_list[1])"
   ]
  },
  {
   "cell_type": "markdown",
   "metadata": {},
   "source": [
    "**Android**, **OS**, **worldwide** have been correctly tagged as a noun using both Viterbi with smoothening and Viterbi with Lexicon Tagger "
   ]
  },
  {
   "cell_type": "markdown",
   "metadata": {},
   "source": [
    "**smartphones**, **2011**, **2013** have been correctly tagged as a noun or number using Viterbi with Lexicon Tagger "
   ]
  }
 ],
 "metadata": {
  "kernelspec": {
   "display_name": "Python 3",
   "language": "python",
   "name": "python3"
  },
  "language_info": {
   "codemirror_mode": {
    "name": "ipython",
    "version": 3
   },
   "file_extension": ".py",
   "mimetype": "text/x-python",
   "name": "python",
   "nbconvert_exporter": "python",
   "pygments_lexer": "ipython3",
   "version": "3.9.1"
  }
 },
 "nbformat": 4,
 "nbformat_minor": 2
}
